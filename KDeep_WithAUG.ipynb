{
 "cells": [
  {
   "cell_type": "code",
   "execution_count": 1,
   "id": "d6dfd888-6a15-4be4-9f07-da7e8c99a690",
   "metadata": {},
   "outputs": [
    {
     "name": "stdout",
     "output_type": "stream",
     "text": [
      "2.10.1\n",
      "[PhysicalDevice(name='/physical_device:GPU:0', device_type='GPU')]\n"
     ]
    }
   ],
   "source": [
    "import tensorflow as tf\n",
    "from tensorflow.keras.utils import pad_sequences\n",
    "print(tf.__version__)\n",
    "print(tf.config.list_physical_devices('GPU'))"
   ]
  },
  {
   "cell_type": "code",
   "execution_count": 2,
   "id": "98356206-40fc-491a-b259-45d460e2439b",
   "metadata": {
    "scrolled": true
   },
   "outputs": [
    {
     "name": "stdout",
     "output_type": "stream",
     "text": [
      "Requirement already satisfied: scikit-learn in c:\\users\\hp\\anaconda3\\envs\\my_gpu\\lib\\site-packages (1.4.2)\n",
      "Requirement already satisfied: numpy>=1.19.5 in c:\\users\\hp\\anaconda3\\envs\\my_gpu\\lib\\site-packages (from scikit-learn) (1.26.4)\n",
      "Requirement already satisfied: scipy>=1.6.0 in c:\\users\\hp\\anaconda3\\envs\\my_gpu\\lib\\site-packages (from scikit-learn) (1.12.0)\n",
      "Requirement already satisfied: joblib>=1.2.0 in c:\\users\\hp\\anaconda3\\envs\\my_gpu\\lib\\site-packages (from scikit-learn) (1.3.2)\n",
      "Requirement already satisfied: threadpoolctl>=2.0.0 in c:\\users\\hp\\anaconda3\\envs\\my_gpu\\lib\\site-packages (from scikit-learn) (2.2.0)\n"
     ]
    },
    {
     "name": "stderr",
     "output_type": "stream",
     "text": [
      "WARNING: Ignoring invalid distribution -5py (c:\\users\\hp\\anaconda3\\envs\\my_gpu\\lib\\site-packages)\n",
      "WARNING: Ignoring invalid distribution -5py (c:\\users\\hp\\anaconda3\\envs\\my_gpu\\lib\\site-packages)\n"
     ]
    },
    {
     "name": "stdout",
     "output_type": "stream",
     "text": [
      "Requirement already satisfied: tqdm in c:\\users\\hp\\anaconda3\\envs\\my_gpu\\lib\\site-packages (4.66.2)\n",
      "Requirement already satisfied: colorama in c:\\users\\hp\\anaconda3\\envs\\my_gpu\\lib\\site-packages (from tqdm) (0.4.6)\n"
     ]
    },
    {
     "name": "stderr",
     "output_type": "stream",
     "text": [
      "WARNING: Ignoring invalid distribution -5py (c:\\users\\hp\\anaconda3\\envs\\my_gpu\\lib\\site-packages)\n",
      "WARNING: Ignoring invalid distribution -5py (c:\\users\\hp\\anaconda3\\envs\\my_gpu\\lib\\site-packages)\n"
     ]
    },
    {
     "name": "stdout",
     "output_type": "stream",
     "text": [
      "Requirement already satisfied: oddt in c:\\users\\hp\\anaconda3\\envs\\my_gpu\\lib\\site-packages (0.7)\n",
      "Requirement already satisfied: numpydoc in c:\\users\\hp\\anaconda3\\envs\\my_gpu\\lib\\site-packages (from oddt) (1.7.0)\n",
      "Requirement already satisfied: six in c:\\users\\hp\\anaconda3\\envs\\my_gpu\\lib\\site-packages (from oddt) (1.16.0)\n",
      "Requirement already satisfied: numpy>=1.11 in c:\\users\\hp\\anaconda3\\envs\\my_gpu\\lib\\site-packages (from oddt) (1.26.4)\n",
      "Requirement already satisfied: scipy>=0.17 in c:\\users\\hp\\anaconda3\\envs\\my_gpu\\lib\\site-packages (from oddt) (1.12.0)\n",
      "Requirement already satisfied: scikit-learn>=0.18 in c:\\users\\hp\\anaconda3\\envs\\my_gpu\\lib\\site-packages (from oddt) (1.4.2)\n",
      "Requirement already satisfied: joblib>=0.9.4 in c:\\users\\hp\\anaconda3\\envs\\my_gpu\\lib\\site-packages (from oddt) (1.3.2)\n",
      "Requirement already satisfied: pandas>=0.19.2 in c:\\users\\hp\\anaconda3\\envs\\my_gpu\\lib\\site-packages (from oddt) (2.2.1)\n",
      "Requirement already satisfied: python-dateutil>=2.8.2 in c:\\users\\hp\\anaconda3\\envs\\my_gpu\\lib\\site-packages (from pandas>=0.19.2->oddt) (2.8.2)\n",
      "Requirement already satisfied: pytz>=2020.1 in c:\\users\\hp\\anaconda3\\envs\\my_gpu\\lib\\site-packages (from pandas>=0.19.2->oddt) (2023.3.post1)\n",
      "Requirement already satisfied: tzdata>=2022.7 in c:\\users\\hp\\anaconda3\\envs\\my_gpu\\lib\\site-packages (from pandas>=0.19.2->oddt) (2023.3)\n",
      "Requirement already satisfied: threadpoolctl>=2.0.0 in c:\\users\\hp\\anaconda3\\envs\\my_gpu\\lib\\site-packages (from scikit-learn>=0.18->oddt) (2.2.0)\n",
      "Requirement already satisfied: sphinx>=6 in c:\\users\\hp\\anaconda3\\envs\\my_gpu\\lib\\site-packages (from numpydoc->oddt) (7.3.6)\n",
      "Requirement already satisfied: tabulate>=0.8.10 in c:\\users\\hp\\anaconda3\\envs\\my_gpu\\lib\\site-packages (from numpydoc->oddt) (0.9.0)\n",
      "Requirement already satisfied: tomli>=1.1.0 in c:\\users\\hp\\anaconda3\\envs\\my_gpu\\lib\\site-packages (from numpydoc->oddt) (2.0.1)\n",
      "Requirement already satisfied: sphinxcontrib-applehelp in c:\\users\\hp\\anaconda3\\envs\\my_gpu\\lib\\site-packages (from sphinx>=6->numpydoc->oddt) (1.0.8)\n",
      "Requirement already satisfied: sphinxcontrib-devhelp in c:\\users\\hp\\anaconda3\\envs\\my_gpu\\lib\\site-packages (from sphinx>=6->numpydoc->oddt) (1.0.6)\n",
      "Requirement already satisfied: sphinxcontrib-jsmath in c:\\users\\hp\\anaconda3\\envs\\my_gpu\\lib\\site-packages (from sphinx>=6->numpydoc->oddt) (1.0.1)\n",
      "Requirement already satisfied: sphinxcontrib-htmlhelp>=2.0.0 in c:\\users\\hp\\anaconda3\\envs\\my_gpu\\lib\\site-packages (from sphinx>=6->numpydoc->oddt) (2.0.5)\n",
      "Requirement already satisfied: sphinxcontrib-serializinghtml>=1.1.9 in c:\\users\\hp\\anaconda3\\envs\\my_gpu\\lib\\site-packages (from sphinx>=6->numpydoc->oddt) (1.1.10)\n",
      "Requirement already satisfied: sphinxcontrib-qthelp in c:\\users\\hp\\anaconda3\\envs\\my_gpu\\lib\\site-packages (from sphinx>=6->numpydoc->oddt) (1.0.7)\n",
      "Requirement already satisfied: Jinja2>=3.0 in c:\\users\\hp\\anaconda3\\envs\\my_gpu\\lib\\site-packages (from sphinx>=6->numpydoc->oddt) (3.1.3)\n",
      "Requirement already satisfied: Pygments>=2.14 in c:\\users\\hp\\anaconda3\\envs\\my_gpu\\lib\\site-packages (from sphinx>=6->numpydoc->oddt) (2.15.1)\n",
      "Requirement already satisfied: docutils<0.22,>=0.18.1 in c:\\users\\hp\\anaconda3\\envs\\my_gpu\\lib\\site-packages (from sphinx>=6->numpydoc->oddt) (0.21.1)\n",
      "Requirement already satisfied: snowballstemmer>=2.0 in c:\\users\\hp\\anaconda3\\envs\\my_gpu\\lib\\site-packages (from sphinx>=6->numpydoc->oddt) (2.2.0)\n",
      "Requirement already satisfied: babel>=2.9 in c:\\users\\hp\\anaconda3\\envs\\my_gpu\\lib\\site-packages (from sphinx>=6->numpydoc->oddt) (2.11.0)\n",
      "Requirement already satisfied: alabaster~=0.7.14 in c:\\users\\hp\\anaconda3\\envs\\my_gpu\\lib\\site-packages (from sphinx>=6->numpydoc->oddt) (0.7.16)\n",
      "Requirement already satisfied: imagesize>=1.3 in c:\\users\\hp\\anaconda3\\envs\\my_gpu\\lib\\site-packages (from sphinx>=6->numpydoc->oddt) (1.4.1)\n",
      "Requirement already satisfied: requests>=2.25.0 in c:\\users\\hp\\anaconda3\\envs\\my_gpu\\lib\\site-packages (from sphinx>=6->numpydoc->oddt) (2.31.0)\n",
      "Requirement already satisfied: packaging>=21.0 in c:\\users\\hp\\anaconda3\\envs\\my_gpu\\lib\\site-packages (from sphinx>=6->numpydoc->oddt) (23.2)\n",
      "Requirement already satisfied: colorama>=0.4.5 in c:\\users\\hp\\anaconda3\\envs\\my_gpu\\lib\\site-packages (from sphinx>=6->numpydoc->oddt) (0.4.6)\n",
      "Requirement already satisfied: MarkupSafe>=2.0 in c:\\users\\hp\\anaconda3\\envs\\my_gpu\\lib\\site-packages (from Jinja2>=3.0->sphinx>=6->numpydoc->oddt) (2.1.3)\n",
      "Requirement already satisfied: charset-normalizer<4,>=2 in c:\\users\\hp\\anaconda3\\envs\\my_gpu\\lib\\site-packages (from requests>=2.25.0->sphinx>=6->numpydoc->oddt) (2.0.4)\n",
      "Requirement already satisfied: idna<4,>=2.5 in c:\\users\\hp\\anaconda3\\envs\\my_gpu\\lib\\site-packages (from requests>=2.25.0->sphinx>=6->numpydoc->oddt) (3.4)\n",
      "Requirement already satisfied: urllib3<3,>=1.21.1 in c:\\users\\hp\\anaconda3\\envs\\my_gpu\\lib\\site-packages (from requests>=2.25.0->sphinx>=6->numpydoc->oddt) (2.1.0)\n",
      "Requirement already satisfied: certifi>=2017.4.17 in c:\\users\\hp\\anaconda3\\envs\\my_gpu\\lib\\site-packages (from requests>=2.25.0->sphinx>=6->numpydoc->oddt) (2024.2.2)\n"
     ]
    },
    {
     "name": "stderr",
     "output_type": "stream",
     "text": [
      "WARNING: Ignoring invalid distribution -5py (c:\\users\\hp\\anaconda3\\envs\\my_gpu\\lib\\site-packages)\n",
      "WARNING: Ignoring invalid distribution -5py (c:\\users\\hp\\anaconda3\\envs\\my_gpu\\lib\\site-packages)\n"
     ]
    },
    {
     "name": "stdout",
     "output_type": "stream",
     "text": [
      "Requirement already satisfied: h5py in c:\\users\\hp\\anaconda3\\envs\\my_gpu\\lib\\site-packages (3.11.0)\n",
      "Requirement already satisfied: numpy>=1.17.3 in c:\\users\\hp\\anaconda3\\envs\\my_gpu\\lib\\site-packages (from h5py) (1.26.4)\n"
     ]
    },
    {
     "name": "stderr",
     "output_type": "stream",
     "text": [
      "WARNING: Ignoring invalid distribution -5py (c:\\users\\hp\\anaconda3\\envs\\my_gpu\\lib\\site-packages)\n",
      "WARNING: Ignoring invalid distribution -5py (c:\\users\\hp\\anaconda3\\envs\\my_gpu\\lib\\site-packages)\n"
     ]
    }
   ],
   "source": [
    "!pip install scikit-learn\n",
    "!pip install tqdm\n",
    "!pip install oddt\n",
    "!pip install h5py"
   ]
  },
  {
   "cell_type": "code",
   "execution_count": 3,
   "id": "5e4c0151-5405-48d0-aaf2-9317863b1241",
   "metadata": {},
   "outputs": [
    {
     "name": "stdout",
     "output_type": "stream",
     "text": [
      "\n",
      "Please cite HTMD: Doerr et al.(2016)JCTC,12,1845. https://dx.doi.org/10.1021/acs.jctc.6b00049\n",
      "HTMD Documentation at: https://software.acellera.com/htmd/\n",
      "\n",
      "You are on the latest HTMD version (2.3.19+0.gc7a6bfe.dirty).\n",
      "\n"
     ]
    },
    {
     "name": "stderr",
     "output_type": "stream",
     "text": [
      "2024-08-05 13:28:08,327 - rdkit - INFO - Enabling RDKit 2023.09.6 jupyter extensions\n"
     ]
    }
   ],
   "source": [
    "import htmd.ui as ht\n",
    "from moleculekit.molecule import Molecule\n",
    "import moleculekit.tools.voxeldescriptors as vd\n",
    "from moleculekit.tools.voxeldescriptors import getVoxelDescriptors, viewVoxelFeatures\n",
    "from moleculekit.tools.atomtyper import prepareProteinForAtomtyping\n",
    "from moleculekit.smallmol.smallmol import SmallMol\n",
    "from moleculekit.home import home\n",
    "import os\n",
    "\n",
    "import csv\n",
    "from tqdm import *\n",
    "import os\n",
    "import pickle\n",
    "import numpy as np\n",
    "import pandas as ps\n",
    "import multiprocessing as mp\n",
    "from sklearn.model_selection import train_test_split\n",
    "from oddt import toolkit\n",
    "from oddt import datasets\n",
    "from oddt.datasets import pdbbind\n",
    "\n",
    "import warnings\n",
    "warnings.filterwarnings(\"ignore\", category=RuntimeWarning) \n",
    "warnings.filterwarnings(\"ignore\", category=FutureWarning) "
   ]
  },
  {
   "cell_type": "code",
   "execution_count": 4,
   "id": "16e81ae8-2c9e-43ac-9e26-737430532edf",
   "metadata": {},
   "outputs": [],
   "source": [
    "data_dir = \".\\DLSCORE-CNN-master\\DLSCORE-CNN-master\\dataset\"\n",
    "pdbbind_dir = os.path.join(data_dir, \"refined-set-2016\\\\\")\n",
    "pdbbind_dataset = pdbbind(home = pdbbind_dir, default_set='refined', version=2016)"
   ]
  },
  {
   "cell_type": "markdown",
   "id": "b2d6d3cd-c96b-4c5b-9065-e5aeb43dc67c",
   "metadata": {
    "jp-MarkdownHeadingCollapsed": true
   },
   "source": [
    "### Manual Functions for feature extractions"
   ]
  },
  {
   "cell_type": "code",
   "execution_count": 5,
   "id": "d90f60f0-1c1f-4851-b51e-2b8055ceb113",
   "metadata": {},
   "outputs": [],
   "source": [
    "# (c) 2015-2018 Acellera Ltd http://www.acellera.com\n",
    "# All Rights Reserved\n",
    "# Distributed under HTMD Software License Agreement\n",
    "# No redistribution in whole or part\n",
    "#\n",
    "\n",
    "\n",
    "\"\"\"\n",
    "All values below are taken from PeriodicTable.C from VMD source code\n",
    "\n",
    "van der Waals radii are taken from A. Bondi,\n",
    "J. Phys. Chem., 68, 441 - 452, 1964,\n",
    "except the value for H, which is taken from R.S. Rowland & R. Taylor,\n",
    "J.Phys.Chem., 100, 7384 - 7391, 1996. Radii that are not available in\n",
    "either of these publications have RvdW = 2.00 �.\n",
    "The radii for Ions (Na, K, Cl, Ca, Mg, and Cs are based on the CHARMM27\n",
    "Rmin/2 parameters for (SOD, POT, CLA, CAL, MG, CES) by default.\n",
    "\"\"\"\n",
    "\n",
    "massdict = {'Ac': 227.0, 'Ag': 107.8682, 'Al': 26.981538, 'Am': 243.0, 'Ar': 39.948, 'As': 74.9216, 'At': 210.0,\n",
    "            'Au': 196.96655, 'B': 10.811, 'Ba': 137.327, 'Be': 9.012182, 'Bh': 264.0, 'Bi': 208.98038, 'Bk': 247.0,\n",
    "            'Br': 79.904, 'C': 12.0107, 'Ca': 40.078, 'Cd': 112.411, 'Ce': 140.116, 'Cf': 251.0, 'Cl': 35.453,\n",
    "            'Cm': 247.0, 'Co': 58.9332, 'Cr': 51.9961, 'Cs': 132.90545, 'Cu': 63.546, 'Db': 262.0, 'Ds': 271.0,\n",
    "            'Dy': 162.5, 'Er': 167.259, 'Es': 252.0, 'Eu': 151.964, 'F': 18.9984032, 'Fe': 55.845, 'Fm': 257.0,\n",
    "            'Fr': 223.0, 'Ga': 69.723, 'Gd': 157.25, 'Ge': 72.64, 'H': 1.00794, 'He': 4.0026, 'Hf': 178.49,\n",
    "            'Hg': 200.59, 'Ho': 164.93032, 'Hs': 269.0, 'I': 126.90447, 'In': 114.818, 'Ir': 192.217, 'K': 39.0983,\n",
    "            'Kr': 83.798, 'La': 138.9055, 'Li': 6.941, 'Lr': 262.0, 'Lu': 174.967, 'Md': 258.0, 'Mg': 24.305,\n",
    "            'Mn': 54.938049, 'Mo': 95.94, 'Mt': 268.0, 'N': 14.0067, 'Na': 22.98977, 'Nb': 92.90638, 'Nd': 144.24,\n",
    "            'Ne': 20.1797, 'Ni': 58.6934, 'No': 259.0, 'Np': 237.0, 'O': 15.9994, 'Os': 190.23, 'P': 30.973761,\n",
    "            'Pa': 231.03588, 'Pb': 207.2, 'Pd': 106.42, 'Pm': 145.0, 'Po': 209.0, 'Pr': 140.90765, 'Pt': 195.078,\n",
    "            'Pu': 244.0, 'Ra': 226.0, 'Rb': 85.4678, 'Re': 186.207, 'Rf': 261.0, 'Rg': 272.0, 'Rh': 102.9055,\n",
    "            'Rn': 222.0, 'Ru': 101.07, 'S': 32.065, 'Sb': 121.76, 'Sc': 44.95591, 'Se': 78.96, 'Sg': 266.0,\n",
    "            'Si': 28.0855, 'Sm': 150.36, 'Sn': 118.71, 'Sr': 87.62, 'Ta': 180.9479, 'Tb': 158.92534, 'Tc': 98.0,\n",
    "            'Te': 127.6, 'Th': 232.0381, 'Ti': 47.867, 'Tl': 204.3833, 'Tm': 168.93421, 'U': 238.02891, 'V': 50.9415,\n",
    "            'W': 183.84, 'X': 0.0, 'Xe': 131.293, 'Y': 88.90585, 'Yb': 173.04, 'Zn': 65.409, 'Zr': 91.224}\n",
    "\n",
    "radiidict = {'Ac': 2.0, 'Ag': 1.72, 'Al': 2.0, 'Am': 2.0, 'Ar': 1.88, 'As': 1.85, 'At': 2.0, 'Au': 1.66, 'B': 2.0,\n",
    "             'Ba': 2.0, 'Be': 2.0, 'Bh': 2.0, 'Bi': 2.0, 'Bk': 2.0, 'Br': 1.85, 'C': 1.7, 'Ca': 1.37, 'Cd': 1.58,\n",
    "             'Ce': 2.0, 'Cf': 2.0, 'Cl': 2.27, 'Cm': 2.0, 'Co': 2.0, 'Cr': 2.0, 'Cs': 2.1, 'Cu': 1.4, 'Db': 2.0,\n",
    "             'Ds': 2.0, 'Dy': 2.0, 'Er': 2.0, 'Es': 2.0, 'Eu': 2.0, 'F': 1.47, 'Fe': 2.0, 'Fm': 2.0, 'Fr': 2.0,\n",
    "             'Ga': 1.07, 'Gd': 2.0, 'Ge': 2.0, 'H': 1.2, 'He': 1.4, 'Hf': 2.0, 'Hg': 1.55, 'Ho': 2.0, 'Hs': 2.0,\n",
    "             'I': 1.98, 'In': 1.93, 'Ir': 2.0, 'K': 1.76, 'Kr': 2.02, 'La': 2.0, 'Li': 1.82, 'Lr': 2.0, 'Lu': 2.0,\n",
    "             'Md': 2.0, 'Mg': 1.18, 'Mn': 2.0, 'Mo': 2.0, 'Mt': 2.0, 'N': 1.55, 'Na': 1.36, 'Nb': 2.0, 'Nd': 2.0,\n",
    "             'Ne': 1.54, 'Ni': 1.63, 'No': 2.0, 'Np': 2.0, 'O': 1.52, 'Os': 2.0, 'P': 1.8, 'Pa': 2.0, 'Pb': 2.02,\n",
    "             'Pd': 1.63, 'Pm': 2.0, 'Po': 2.0, 'Pr': 2.0, 'Pt': 1.72, 'Pu': 2.0, 'Ra': 2.0, 'Rb': 2.0, 'Re': 2.0,\n",
    "             'Rf': 2.0, 'Rg': 2.0, 'Rh': 2.0, 'Rn': 2.0, 'Ru': 2.0, 'S': 1.8, 'Sb': 2.0, 'Sc': 2.0, 'Se': 1.9,\n",
    "             'Sg': 2.0, 'Si': 2.1, 'Sm': 2.0, 'Sn': 2.17, 'Sr': 2.0, 'Ta': 2.0, 'Tb': 2.0, 'Tc': 2.0, 'Te': 2.06,\n",
    "             'Th': 2.0, 'Ti': 2.0, 'Tl': 1.96, 'Tm': 2.0, 'U': 1.86, 'V': 2.0, 'W': 2.0, 'X': 1.5, 'Xe': 2.16, 'Y': 2.0,\n",
    "             'Yb': 2.0, 'Zn': 1.39, 'Zr': 2.0}\n",
    "\n",
    "\n",
    "def massByElement(element):\n",
    "    try:\n",
    "        return massdict[element]\n",
    "    except:\n",
    "        return 0.\n",
    "\n",
    "\n",
    "def radiusByElement(element):\n",
    "    try:\n",
    "        return radiidict[element]\n",
    "    except:\n",
    "        return 1.5\n",
    "\n",
    "\n",
    "def _getRadii(mol):\n",
    "    \"\"\" Gets vdW radius for each elem in mol.element. Source VMD.\n",
    "\n",
    "    Parameters\n",
    "    ----------\n",
    "    mol :\n",
    "        A Molecule object. Needs to be read from Autodock 4 .pdbqt format\n",
    "\n",
    "    Returns\n",
    "    -------\n",
    "    radii : np.ndarray\n",
    "        vdW radius for each element in mol.\n",
    "    \"\"\"\n",
    "\n",
    "    mappings = {  # Mapping pdbqt representation to element.\n",
    "        'HD': 'H',\n",
    "        'HS': 'H',\n",
    "        'A': 'C',\n",
    "        'NA': 'N',\n",
    "        'NS': 'N',\n",
    "        'OA': 'O',\n",
    "        'OS': 'O',\n",
    "        'MG': 'Mg',\n",
    "        'SA': 'S',\n",
    "        'CL': 'Cl',\n",
    "        'CA': 'Ca',\n",
    "        'MN': 'Mn',\n",
    "        'FE': 'Fe',\n",
    "        'ZN': 'Zn',\n",
    "        'BR': 'Br',\n",
    "        'CS': 'C', # Extra added\n",
    "        'PB': 'P',\n",
    "        # 'Pb':'P',\n",
    "        # 'Cs': 'C'\n",
    "    }\n",
    "    atoms = ['H', 'C', 'N', 'O', 'F', 'Mg', 'P', 'S', 'Cl', 'Ca', 'Fe', 'Zn', 'Br', 'I', 'Pb', 'Cs']\n",
    "    atoms.extend(['Co', 'Hg', 'Ni', 'Sr', 'Mn', 'K', 'Se', 'Cu', 'Cd', 'Li', 'Na']) # Extra added\n",
    "    for el in atoms:\n",
    "        #print(f'mappings[el]: {mappings[el]}')\n",
    "        mappings[el] = el\n",
    "        #print(el)\n",
    "\n",
    "    res = np.zeros(mol.numAtoms)\n",
    "    for a in range(mol.numAtoms):\n",
    "        elem = mol.element[a]\n",
    "        #print(f'elem = {elem}')\n",
    "\n",
    "        if elem not in mappings:\n",
    "            raise ValueError('PDBQT element {} does not exist in mappings.'.format(elem))\n",
    "        elem = mappings[elem]\n",
    "        if elem in radiidict:\n",
    "            rad = radiusByElement(elem)\n",
    "        else:\n",
    "            print('Unknown element -', mol.element[a], '- at atom index ', a)\n",
    "            rad = 1.5\n",
    "        res[a] = rad\n",
    "    return res\n",
    "\n",
    "   "
   ]
  },
  {
   "cell_type": "code",
   "execution_count": 6,
   "id": "6137b8a6-0a71-4fdd-8166-e4bc904150e4",
   "metadata": {},
   "outputs": [],
   "source": [
    "def _getGridCenters(llc, N, resolution):\n",
    "    xrange = [llc[0] + resolution * x for x in range(0, N[0])]\n",
    "    yrange = [llc[1] + resolution * x for x in range(0, N[1])]\n",
    "    zrange = [llc[2] + resolution * x for x in range(0, N[2])]\n",
    "    centers = np.zeros((N[0], N[1], N[2], 3))\n",
    "    for i, x in enumerate(xrange):\n",
    "        for j, y in enumerate(yrange):\n",
    "            for k, z in enumerate(zrange):\n",
    "                centers[i, j, k, :] = np.array([x, y, z])\n",
    "    return centers"
   ]
  },
  {
   "cell_type": "markdown",
   "id": "d74d1d80-f197-4c82-b8f1-e080a9cff382",
   "metadata": {
    "jp-MarkdownHeadingCollapsed": true
   },
   "source": [
    "### Hessain Matrix Generation"
   ]
  },
  {
   "cell_type": "code",
   "execution_count": 7,
   "id": "3b8d63c6-d938-4628-94a5-59db2a982072",
   "metadata": {},
   "outputs": [],
   "source": [
    "def read_pdb_file(pdb_file):\n",
    "    coordinates = []\n",
    "    with open(pdb_file, 'r') as file:\n",
    "        for line in file:\n",
    "            if line.startswith('ATOM'):\n",
    "                atom_type = line[12:16].strip()\n",
    "                atom_no = line[23:27].strip()\n",
    "                x = float(line[30:38])\n",
    "                y = float(line[38:46])\n",
    "                z = float(line[46:54])\n",
    "                b_factor = float(line[60:66])\n",
    "                if (atom_type == 'CA'):\n",
    "                    coordinates.append([atom_type, atom_no, x, y, z, b_factor])\n",
    "    return coordinates\n",
    "def build_Hessain(coordinates):\n",
    "    no_of_residue = len(coordinates)\n",
    "    cut_off = 18\n",
    "    H = np.zeros((3*no_of_residue, 3*no_of_residue), float)\n",
    "    for i in range(0, no_of_residue-1):\n",
    "        cor_i = np.array(coordinates[i][2:5])\n",
    "        res_i_x = i * 3\n",
    "        res_i_z = res_i_x + 3\n",
    "        cor_i_j = []\n",
    "        p = i + 1\n",
    "        for k in range(p, no_of_residue):\n",
    "            temp = np.array(coordinates[k][2:5]) - cor_i\n",
    "            cor_i_j.append(temp)\n",
    "        cor_i_j = np.array(cor_i_j)\n",
    "        for j, s_ij_2 in enumerate((np.power(cor_i_j, 2)).sum(1)):\n",
    "            if s_ij_2 > (cut_off*cut_off):\n",
    "                continue\n",
    "            # Super element 3x3\n",
    "            gamma = 1\n",
    "            d_i_j = cor_i_j[j]\n",
    "            j += i+1\n",
    "            res_j_x = j * 3\n",
    "            res_j_z = res_j_x + 3\n",
    "            super_element = np.outer(d_i_j, d_i_j) * (-gamma / s_ij_2)\n",
    "            H[res_i_x:res_i_z, res_j_x:res_j_z] = super_element\n",
    "            H[res_j_x:res_j_z, res_i_x:res_i_z] = super_element\n",
    "            H[res_i_x:res_i_z, res_i_x:res_i_z] = H[res_i_x:res_i_z, res_i_x:res_i_z] - super_element\n",
    "            H[res_j_x:res_j_z, res_j_x:res_j_z] = H[res_j_x:res_j_z, res_j_x:res_j_z] - super_element\n",
    "\n",
    "    return H\n"
   ]
  },
  {
   "cell_type": "markdown",
   "id": "79b4907a-78b5-437c-8c2d-7aeee1bc29c0",
   "metadata": {
    "jp-MarkdownHeadingCollapsed": true
   },
   "source": [
    "### Feature Extraction"
   ]
  },
  {
   "cell_type": "code",
   "execution_count": 8,
   "id": "a8eed166-0d03-4740-a928-7b1a8f28fef8",
   "metadata": {},
   "outputs": [],
   "source": [
    "def get_pdb_complex_feature(protein_file, ligand_file, pocket_file):\n",
    "    \"\"\" Returns voxel features for a pdb complex \"\"\"\n",
    "\n",
    "    def get_prop(mol, left_most_point):\n",
    "        \"\"\" Returns atom occupancies \"\"\"\n",
    "        n = [24, 24, 24] # Voxel size (size of big voxel or cube)\n",
    "        \n",
    "        # Get the channels\n",
    "        channels = vd._getAtomtypePropertiesPDBQT(mol)\n",
    "        #print(f'Cnalles = {channels}')\n",
    "        sigmas = _getRadii(mol)\n",
    "        #print(f'signmas = {sigmas}')\n",
    "        channels = sigmas[:, np.newaxis] * channels.astype(float)\n",
    "        \n",
    "        # Choose the grid centers\n",
    "        centers = _getGridCenters(llc = left_most_point, N = n, resolution=1)\n",
    "        #print(f'centers = {centers}')\n",
    "        centers = centers.reshape(np.prod(n), 3)\n",
    "        \n",
    "        # Extract the features and return\n",
    "        features = vd._getOccupancyC(mol.coords[:, :, mol.frame], centers, channels)\n",
    "        return features.reshape(*n, -1)\n",
    "\n",
    "    def get_pocket_feature(pocket_file):\n",
    "        corr = read_pdb_file(pocket_file)\n",
    "        no_of_residue = len(corr)\n",
    "        \n",
    "        H = build_Hessain(corr)\n",
    "    \n",
    "        eigvals, eigvec = np.linalg.eigh(H)\n",
    "\n",
    "        max_effect_mode = eigvec[:, -1] * eigvals[-1]\n",
    "\n",
    "        #print(max_effect_mode.shape)\n",
    "\n",
    "        return max_effect_mode #Basiaclly it is just a 1-D numpy array\n",
    "    \n",
    "    # Generate the HTMD Molecule objects\n",
    "    protein_mol = Molecule(protein_file)\n",
    "    ligand_mol = Molecule(ligand_file)\n",
    "\n",
    "    left_most_point = list(np.mean(ligand_mol.coords.reshape(-1, 3), axis=0) - 12.0)\n",
    "    \n",
    "    # Get the features for both the protein and the ligand. Return those after concatenation.\n",
    "    protein_features = get_prop(protein_mol, left_most_point)\n",
    "    ligand_features = get_prop(ligand_mol, left_most_point)\n",
    "    pocket_feature = get_pocket_feature(pocket_file)\n",
    "    #print(pocket_feature.shape)\n",
    "\n",
    "    protein_features_t = protein_features.transpose().reshape([8, 24, 24, 24])    \n",
    "    ligand_features_t = protein_features.transpose().reshape([8, 24, 24, 24])    \n",
    "    \n",
    "    return np.concatenate((protein_features_t, ligand_features_t), axis=0), pocket_feature\n"
   ]
  },
  {
   "cell_type": "code",
   "execution_count": 9,
   "id": "d1d6a722-9b64-4a66-85cf-985577ef6d7a",
   "metadata": {},
   "outputs": [],
   "source": [
    "def get_pdb_features(ids, sets=\"refined\"):\n",
    "    \"\"\" Returns features for given pdb ids\"\"\"\n",
    "    pdb_ids = []\n",
    "    pdb_features = []\n",
    "    pocket_features = []\n",
    "\n",
    "    for pdbid in tqdm(ids):\n",
    "        protein_file = os.path.join(pdbbind_dir, pdbid, pdbid + \"_protein.pdbqt\")\n",
    "        ligand_file = os.path.join(pdbbind_dir, pdbid, pdbid + \"_ligand.pdbqt\")\n",
    "        pocket_file = os.path.join(pdbbind_dir, pdbid, pdbid + \"_pocket.pdb\")\n",
    "        if not os.path.isfile(protein_file) or not os.path.isfile(ligand_file): \n",
    "            continue\n",
    "            #print(1)\n",
    "            \n",
    "        try:\n",
    "            features, pocket_feat = get_pdb_complex_feature(protein_file, ligand_file, pocket_file)\n",
    "            #print(list(pocket_feat))\n",
    "        except Exception as e:\n",
    "            print(\"ERROR in \", pdbid , \" \", str(e))\n",
    "            #print(protein_file)\n",
    "            continue\n",
    "\n",
    "        #print(pdbid)\n",
    "        #print(features) \n",
    "        \n",
    "        pdb_ids.append(pdbid)\n",
    "        pdb_features.append(features)\n",
    "        pocket_features.append(list(pocket_feat))\n",
    "        #print(len(pocket_features))\n",
    "    \n",
    "    # Convert the list of features as numpy array and return\n",
    "\n",
    "\n",
    "    \n",
    "    # print(len(pocket_features))\n",
    "    # print(len(max(pocket_features,key = lambda x: len(x))))\n",
    "    # data_x_2 = np.zeros([len(pocket_features),len(max(pocket_features,key = lambda x: len(x)))])\n",
    "    # for i,j in enumerate(pocket_features):\n",
    "    #     data_x_2[i][0:len(j)] = j\n",
    "\n",
    "\n",
    "    pocket_features = pad_sequences(pocket_features, maxlen=256, padding='post', truncating ='post', value = 1)\n",
    "    data_x_2 = np.array(pocket_features, dtype=np.float32)\n",
    "    print(data_x_2.shape)\n",
    "    \n",
    "    data_x_1 = np.array(pdb_features, dtype=np.float32)\n",
    "    data_y = np.array([pdbbind_dataset.sets[sets][_id] for _id in pdb_ids], dtype=np.float32)\n",
    "\n",
    "    print(data_x_1.shape)\n",
    "    \n",
    "\n",
    "    return data_x_1, data_y, data_x_2\n"
   ]
  },
  {
   "cell_type": "code",
   "execution_count": 10,
   "id": "ddb94f43-6447-48f1-8176-23dba111eaa9",
   "metadata": {},
   "outputs": [],
   "source": [
    "def get_features():\n",
    "    \"\"\" Returns features for all the complexes in the dataset. \"\"\" \n",
    "    # List ids in the core set\n",
    "    core_ids = list(pdbbind_dataset.sets['core'].keys())\n",
    "    # List ids in the refined set\n",
    "    refined_ids = list(pdbbind_dataset.sets['refined'].keys()) \n",
    "    # remove core ids from the refined set.\n",
    "    refined_ids = [i for i in refined_ids if i not in core_ids]\n",
    "    \n",
    "    # Get the features \n",
    "    print(\"Extracting features for the core set\")\n",
    "    core_x_1, core_y, core_x_2 = get_pdb_features(core_ids, sets=\"core\")\n",
    "    print(\"Extracting features for the refined set\")\n",
    "    refined_x_1, refined_y, refined_x_2 = get_pdb_features(refined_ids)    \n",
    "    \n",
    "    return core_x_1, core_y, refined_x_1, refined_y, core_x_2, refined_x_2"
   ]
  },
  {
   "cell_type": "code",
   "execution_count": 11,
   "id": "c8553fec-750a-43df-9169-b55387f9a2d3",
   "metadata": {
    "scrolled": true
   },
   "outputs": [
    {
     "name": "stdout",
     "output_type": "stream",
     "text": [
      "Extracting features for the core set\n"
     ]
    },
    {
     "name": "stderr",
     "output_type": "stream",
     "text": [
      "  4%|▍         | 12/290 [00:12<04:49,  1.04s/it]\n"
     ]
    },
    {
     "ename": "KeyboardInterrupt",
     "evalue": "",
     "output_type": "error",
     "traceback": [
      "\u001b[1;31m---------------------------------------------------------------------------\u001b[0m",
      "\u001b[1;31mKeyboardInterrupt\u001b[0m                         Traceback (most recent call last)",
      "Cell \u001b[1;32mIn[11], line 3\u001b[0m\n\u001b[0;32m      1\u001b[0m \u001b[38;5;28;01mimport\u001b[39;00m \u001b[38;5;21;01mwarnings\u001b[39;00m\n\u001b[0;32m      2\u001b[0m warnings\u001b[38;5;241m.\u001b[39mfilterwarnings(\u001b[38;5;124m'\u001b[39m\u001b[38;5;124mignore\u001b[39m\u001b[38;5;124m'\u001b[39m)\n\u001b[1;32m----> 3\u001b[0m test_x_1, test_y, train_x_1, train_y, test_x_2, train_x_2 \u001b[38;5;241m=\u001b[39m \u001b[43mget_features\u001b[49m\u001b[43m(\u001b[49m\u001b[43m)\u001b[49m\n",
      "Cell \u001b[1;32mIn[10], line 12\u001b[0m, in \u001b[0;36mget_features\u001b[1;34m()\u001b[0m\n\u001b[0;32m     10\u001b[0m \u001b[38;5;66;03m# Get the features \u001b[39;00m\n\u001b[0;32m     11\u001b[0m \u001b[38;5;28mprint\u001b[39m(\u001b[38;5;124m\"\u001b[39m\u001b[38;5;124mExtracting features for the core set\u001b[39m\u001b[38;5;124m\"\u001b[39m)\n\u001b[1;32m---> 12\u001b[0m core_x_1, core_y, core_x_2 \u001b[38;5;241m=\u001b[39m \u001b[43mget_pdb_features\u001b[49m\u001b[43m(\u001b[49m\u001b[43mcore_ids\u001b[49m\u001b[43m,\u001b[49m\u001b[43m \u001b[49m\u001b[43msets\u001b[49m\u001b[38;5;241;43m=\u001b[39;49m\u001b[38;5;124;43m\"\u001b[39;49m\u001b[38;5;124;43mcore\u001b[39;49m\u001b[38;5;124;43m\"\u001b[39;49m\u001b[43m)\u001b[49m\n\u001b[0;32m     13\u001b[0m \u001b[38;5;28mprint\u001b[39m(\u001b[38;5;124m\"\u001b[39m\u001b[38;5;124mExtracting features for the refined set\u001b[39m\u001b[38;5;124m\"\u001b[39m)\n\u001b[0;32m     14\u001b[0m refined_x_1, refined_y, refined_x_2 \u001b[38;5;241m=\u001b[39m get_pdb_features(refined_ids)    \n",
      "Cell \u001b[1;32mIn[9], line 16\u001b[0m, in \u001b[0;36mget_pdb_features\u001b[1;34m(ids, sets)\u001b[0m\n\u001b[0;32m     13\u001b[0m     \u001b[38;5;66;03m#print(1)\u001b[39;00m\n\u001b[0;32m     15\u001b[0m \u001b[38;5;28;01mtry\u001b[39;00m:\n\u001b[1;32m---> 16\u001b[0m     features, pocket_feat \u001b[38;5;241m=\u001b[39m \u001b[43mget_pdb_complex_feature\u001b[49m\u001b[43m(\u001b[49m\u001b[43mprotein_file\u001b[49m\u001b[43m,\u001b[49m\u001b[43m \u001b[49m\u001b[43mligand_file\u001b[49m\u001b[43m,\u001b[49m\u001b[43m \u001b[49m\u001b[43mpocket_file\u001b[49m\u001b[43m)\u001b[49m\n\u001b[0;32m     17\u001b[0m     \u001b[38;5;66;03m#print(list(pocket_feat))\u001b[39;00m\n\u001b[0;32m     18\u001b[0m \u001b[38;5;28;01mexcept\u001b[39;00m \u001b[38;5;167;01mException\u001b[39;00m \u001b[38;5;28;01mas\u001b[39;00m e:\n",
      "Cell \u001b[1;32mIn[8], line 53\u001b[0m, in \u001b[0;36mget_pdb_complex_feature\u001b[1;34m(protein_file, ligand_file, pocket_file)\u001b[0m\n\u001b[0;32m     50\u001b[0m protein_features_t \u001b[38;5;241m=\u001b[39m protein_features\u001b[38;5;241m.\u001b[39mtranspose()\u001b[38;5;241m.\u001b[39mreshape([\u001b[38;5;241m8\u001b[39m, \u001b[38;5;241m24\u001b[39m, \u001b[38;5;241m24\u001b[39m, \u001b[38;5;241m24\u001b[39m])    \n\u001b[0;32m     51\u001b[0m ligand_features_t \u001b[38;5;241m=\u001b[39m protein_features\u001b[38;5;241m.\u001b[39mtranspose()\u001b[38;5;241m.\u001b[39mreshape([\u001b[38;5;241m8\u001b[39m, \u001b[38;5;241m24\u001b[39m, \u001b[38;5;241m24\u001b[39m, \u001b[38;5;241m24\u001b[39m])    \n\u001b[1;32m---> 53\u001b[0m \u001b[38;5;28;01mreturn\u001b[39;00m \u001b[43mnp\u001b[49m\u001b[38;5;241;43m.\u001b[39;49m\u001b[43mconcatenate\u001b[49m\u001b[43m(\u001b[49m\u001b[43m(\u001b[49m\u001b[43mprotein_features_t\u001b[49m\u001b[43m,\u001b[49m\u001b[43m \u001b[49m\u001b[43mligand_features_t\u001b[49m\u001b[43m)\u001b[49m\u001b[43m,\u001b[49m\u001b[43m \u001b[49m\u001b[43maxis\u001b[49m\u001b[38;5;241;43m=\u001b[39;49m\u001b[38;5;241;43m0\u001b[39;49m\u001b[43m)\u001b[49m, pocket_feature\n",
      "\u001b[1;31mKeyboardInterrupt\u001b[0m: "
     ]
    }
   ],
   "source": [
    "import warnings\n",
    "warnings.filterwarnings('ignore')\n",
    "test_x_1, test_y, train_x_1, train_y, test_x_2, train_x_2 = get_features()"
   ]
  },
  {
   "cell_type": "code",
   "execution_count": 12,
   "id": "22b554e3-e9a0-4d7b-97af-e8b64e44e665",
   "metadata": {},
   "outputs": [
    {
     "ename": "NameError",
     "evalue": "name 'train_y' is not defined",
     "output_type": "error",
     "traceback": [
      "\u001b[1;31m---------------------------------------------------------------------------\u001b[0m",
      "\u001b[1;31mNameError\u001b[0m                                 Traceback (most recent call last)",
      "Cell \u001b[1;32mIn[12], line 1\u001b[0m\n\u001b[1;32m----> 1\u001b[0m \u001b[38;5;28mprint\u001b[39m(\u001b[43mtrain_y\u001b[49m\u001b[38;5;241m.\u001b[39mshape)\n\u001b[0;32m      2\u001b[0m \u001b[38;5;28mprint\u001b[39m(test_x_1\u001b[38;5;241m.\u001b[39mshape)\n\u001b[0;32m      3\u001b[0m \u001b[38;5;28mprint\u001b[39m(test_x_2\u001b[38;5;241m.\u001b[39mshape)\n",
      "\u001b[1;31mNameError\u001b[0m: name 'train_y' is not defined"
     ]
    }
   ],
   "source": [
    "print(train_y.shape)\n",
    "print(test_x_1.shape)\n",
    "print(test_x_2.shape)\n",
    "print(test_y.shape)\n",
    "print(train_x_1.shape) # To pad length = 320\n",
    "print(train_x_2.shape)"
   ]
  },
  {
   "cell_type": "code",
   "execution_count": 13,
   "id": "f5fcbeff-3960-492f-b411-71e010a409cf",
   "metadata": {
    "scrolled": true
   },
   "outputs": [
    {
     "ename": "NameError",
     "evalue": "name 'train_x_1' is not defined",
     "output_type": "error",
     "traceback": [
      "\u001b[1;31m---------------------------------------------------------------------------\u001b[0m",
      "\u001b[1;31mNameError\u001b[0m                                 Traceback (most recent call last)",
      "Cell \u001b[1;32mIn[13], line 1\u001b[0m\n\u001b[1;32m----> 1\u001b[0m train_x_1, valid_x_1, train_x_2, valid_x_2, train_y, valid_y \u001b[38;5;241m=\u001b[39m train_test_split(\u001b[43mtrain_x_1\u001b[49m, train_x_2, train_y, test_size\u001b[38;5;241m=\u001b[39m\u001b[38;5;241m0.2\u001b[39m)\n\u001b[0;32m      2\u001b[0m \u001b[38;5;28mprint\u001b[39m(\u001b[38;5;124m\"\u001b[39m\u001b[38;5;124mShapes in the training, test and the validation set: \u001b[39m\u001b[38;5;124m\"\u001b[39m, train_x_1\u001b[38;5;241m.\u001b[39mshape, train_x_2\u001b[38;5;241m.\u001b[39mshape, valid_x_1\u001b[38;5;241m.\u001b[39mshape, valid_x_2\u001b[38;5;241m.\u001b[39mshape, test_x_1\u001b[38;5;241m.\u001b[39mshape, test_x_2\u001b[38;5;241m.\u001b[39mshape)\n",
      "\u001b[1;31mNameError\u001b[0m: name 'train_x_1' is not defined"
     ]
    }
   ],
   "source": [
    "train_x_1, valid_x_1, train_x_2, valid_x_2, train_y, valid_y = train_test_split(train_x_1, train_x_2, train_y, test_size=0.2)\n",
    "print(\"Shapes in the training, test and the validation set: \", train_x_1.shape, train_x_2.shape, valid_x_1.shape, valid_x_2.shape, test_x_1.shape, test_x_2.shape)\n",
    "# x_train, x_test, y_train, y_test = train_test_split(dataset_df['Sequences'], dataset_df['class'], test_size = 0.2)"
   ]
  },
  {
   "cell_type": "markdown",
   "id": "ed48863a-e0ae-499f-8f82-cef795cf9392",
   "metadata": {
    "jp-MarkdownHeadingCollapsed": true
   },
   "source": [
    "### Saving Extracted Features"
   ]
  },
  {
   "cell_type": "code",
   "execution_count": null,
   "id": "1053351f-3507-4888-a22c-6240faf5075c",
   "metadata": {},
   "outputs": [],
   "source": [
    "import h5py\n",
    "print(\"Saving the data in data.h5\")\n",
    "h5f = h5py.File(os.path.join(data_dir, \"data_1.h5\"), 'w')\n",
    "h5f.create_dataset('train_x_1', data=train_x_1)\n",
    "h5f.create_dataset('train_x_2', data=train_x_2)\n",
    "h5f.create_dataset('train_y', data=train_y)\n",
    "h5f.create_dataset('valid_x_1', data=valid_x_1)\n",
    "h5f.create_dataset('valid_x_2', data=valid_x_2)\n",
    "h5f.create_dataset('valid_y', data=valid_y)\n",
    "h5f.create_dataset('test_x_1', data=test_x_1)\n",
    "h5f.create_dataset('test_x_2', data=test_x_2)\n",
    "h5f.create_dataset('test_y', data=test_y)\n",
    "h5f.close()"
   ]
  },
  {
   "cell_type": "markdown",
   "id": "1827110c-5d2e-4d96-8659-3f3869f36843",
   "metadata": {},
   "source": [
    "### Training and Initializing Model"
   ]
  },
  {
   "cell_type": "code",
   "execution_count": 14,
   "id": "ea3c6001-797c-4e51-b7bc-5fb32f6cda7a",
   "metadata": {},
   "outputs": [
    {
     "name": "stdout",
     "output_type": "stream",
     "text": [
      "Data shapes:  (2997, 16, 24, 24, 24) (750, 16, 24, 24, 24) (290, 16, 24, 24, 24) (2997, 256) (750, 256) (290, 256)\n",
      "Y shape:  (2997,) (750,) (290,)\n"
     ]
    }
   ],
   "source": [
    "import os\n",
    "import h5py\n",
    "data_dir = \".\\DLSCORE-CNN-master\\DLSCORE-CNN-master\\dataset\"\n",
    "pdbbind_dir = os.path.join(data_dir, \"refined-set-2016\\\\\")\n",
    "pdbbind_dataset = pdbbind(home = pdbbind_dir, default_set='refined', version=2016)\n",
    "h5f = h5py.File(os.path.join(data_dir, \"data_1.h5\"), 'r')\n",
    "train_x_1, train_y = h5f['train_x_1'][:], h5f['train_y'][:]\n",
    "valid_x_1, valid_y = h5f['valid_x_1'][:], h5f['valid_y'][:]\n",
    "test_x_1, test_y = h5f['test_x_1'][:], h5f['test_y'][:]\n",
    "train_x_2, valid_x_2, test_x_2 = h5f['train_x_2'][:], h5f['valid_x_2'][:], h5f['test_x_2'][:]\n",
    "h5f.close()\n",
    "print(\"Data shapes: \", train_x_1.shape, valid_x_1.shape, test_x_1.shape, train_x_2.shape, valid_x_2.shape, test_x_2.shape)\n",
    "print(\"Y shape: \", train_y.shape, valid_y.shape, test_y.shape)"
   ]
  },
  {
   "cell_type": "code",
   "execution_count": 15,
   "id": "27b3b474-2516-4cfa-8f2a-163f2a031ffc",
   "metadata": {},
   "outputs": [
    {
     "data": {
      "image/png": "[encoded data removed]",
      "text/plain": [
       "<Figure size 640x480 with 1 Axes>"
      ]
     },
     "metadata": {},
     "output_type": "display_data"
    }
   ],
   "source": [
    "import numpy as np\n",
    "import matplotlib.pyplot as plt\n",
    "\n",
    "# Assuming train_y is your array\n",
    "# Example data, replace with your actual data\n",
    "\n",
    "# Define the number of buckets (bins)\n",
    "num_bins = 10  # You can adjust the number of bins as needed\n",
    "\n",
    "# Create the histogram data\n",
    "counts, bin_edges = np.histogram(train_y, bins=num_bins, range=(2, 12))\n",
    "\n",
    "# Compute the bin centers\n",
    "bin_centers = 0.5 * (bin_edges[:-1] + bin_edges[1:])\n",
    "\n",
    "# Plot the bar chart\n",
    "plt.bar(bin_centers, counts, width=(bin_edges[1] - bin_edges[0]), edgecolor='black')\n",
    "\n",
    "# Add labels and title\n",
    "plt.xlabel('Value')\n",
    "plt.ylabel('Frequency')\n",
    "plt.title('Histogram of train_y')\n",
    "\n",
    "# Show the plot\n",
    "plt.show()\n"
   ]
  },
  {
   "cell_type": "markdown",
   "id": "ca3ee568-e95c-4174-89a6-da2482020ceb",
   "metadata": {},
   "source": [
    "#### Defining Model"
   ]
  },
  {
   "cell_type": "code",
   "execution_count": 19,
   "id": "e519c01d-25ee-457f-90e2-10f19b5e9f59",
   "metadata": {
    "scrolled": true
   },
   "outputs": [
    {
     "data": {
      "text/plain": [
       "==========================================================================================\n",
       "Layer (type:depth-idx)                   Output Shape              Param #\n",
       "==========================================================================================\n",
       "KatNet                                   [50, 1]                   --\n",
       "├─Conv3d: 1-1                            [50, 128, 12, 12, 12]     55,424\n",
       "├─Conv3d: 1-2                            [50, 256, 14, 14, 14]     33,024\n",
       "├─BatchNorm3d: 1-3                       [50, 256, 14, 14, 14]     512\n",
       "├─MaxPool3d: 1-4                         [50, 256, 6, 6, 6]        --\n",
       "├─ExpandBlock: 1-5                       [50, 128, 6, 6, 6]        --\n",
       "│    └─Conv3d: 2-1                       [50, 64, 6, 6, 6]         16,448\n",
       "│    └─Conv3d: 2-2                       [50, 64, 6, 6, 6]         442,432\n",
       "├─Conv3d: 1-6                            [50, 32, 8, 8, 8]         4,128\n",
       "├─BatchNorm3d: 1-7                       [50, 32, 8, 8, 8]         64\n",
       "├─MaxPool3d: 1-8                         [50, 32, 3, 3, 3]         --\n",
       "├─ExpandBlock: 1-9                       [50, 128, 3, 3, 3]        --\n",
       "│    └─Conv3d: 2-3                       [50, 64, 3, 3, 3]         2,112\n",
       "│    └─Conv3d: 2-4                       [50, 64, 3, 3, 3]         55,360\n",
       "├─Conv3d: 1-10                           [50, 32, 5, 5, 5]         4,128\n",
       "├─BatchNorm3d: 1-11                      [50, 32, 5, 5, 5]         64\n",
       "├─MaxPool3d: 1-12                        [50, 32, 2, 2, 2]         --\n",
       "├─ExpandBlock: 1-13                      [50, 256, 2, 2, 2]        --\n",
       "│    └─Conv3d: 2-5                       [50, 128, 2, 2, 2]        4,224\n",
       "│    └─Conv3d: 2-6                       [50, 128, 2, 2, 2]        110,720\n",
       "├─Conv3d: 1-14                           [50, 32, 4, 4, 4]         8,224\n",
       "├─BatchNorm3d: 1-15                      [50, 32, 4, 4, 4]         64\n",
       "├─MaxPool3d: 1-16                        [50, 32, 5, 5, 5]         --\n",
       "├─ExpandBlock: 1-17                      [50, 256, 5, 5, 5]        --\n",
       "│    └─Conv3d: 2-7                       [50, 128, 5, 5, 5]        4,224\n",
       "│    └─Conv3d: 2-8                       [50, 128, 5, 5, 5]        110,720\n",
       "├─Conv3d: 1-18                           [50, 128, 7, 7, 7]        32,896\n",
       "├─BatchNorm3d: 1-19                      [50, 128, 7, 7, 7]        256\n",
       "├─MaxPool3d: 1-20                        [50, 128, 8, 8, 8]        --\n",
       "├─ExpandBlock: 1-21                      [50, 384, 8, 8, 8]        --\n",
       "│    └─Conv3d: 2-9                       [50, 192, 8, 8, 8]        24,768\n",
       "│    └─Conv3d: 2-10                      [50, 192, 8, 8, 8]        663,744\n",
       "├─Conv3d: 1-22                           [50, 128, 10, 10, 10]     49,280\n",
       "├─BatchNorm3d: 1-23                      [50, 128, 10, 10, 10]     256\n",
       "├─MaxPool3d: 1-24                        [50, 128, 11, 11, 11]     --\n",
       "├─ExpandBlock: 1-25                      [50, 64, 11, 11, 11]      --\n",
       "│    └─Conv3d: 2-11                      [50, 32, 11, 11, 11]      4,128\n",
       "│    └─Conv3d: 2-12                      [50, 32, 11, 11, 11]      110,624\n",
       "├─Conv3d: 1-26                           [50, 16, 13, 13, 13]      1,040\n",
       "├─BatchNorm3d: 1-27                      [50, 16, 13, 13, 13]      32\n",
       "├─MaxPool3d: 1-28                        [50, 16, 11, 11, 11]      --\n",
       "├─ExpandBlock: 1-29                      [50, 32, 11, 11, 11]      --\n",
       "│    └─Conv3d: 2-13                      [50, 16, 11, 11, 11]      272\n",
       "│    └─Conv3d: 2-14                      [50, 16, 11, 11, 11]      6,928\n",
       "├─AvgPool3d: 1-30                        [50, 32, 2, 2, 2]         --\n",
       "├─Flatten: 1-31                          [50, 256]                 --\n",
       "├─CrossAttention: 1-32                   [50, 256]                 68,096\n",
       "├─Linear: 1-33                           [50, 128]                 32,896\n",
       "├─Linear: 1-34                           [50, 32]                  4,128\n",
       "├─Linear: 1-35                           [50, 16]                  528\n",
       "├─Linear: 1-36                           [50, 1]                   17\n",
       "==========================================================================================\n",
       "Total params: 1,851,761\n",
       "Trainable params: 1,851,761\n",
       "Non-trainable params: 0\n",
       "Total mult-adds (G): 44.16\n",
       "==========================================================================================\n",
       "Input size (MB): 44.29\n",
       "Forward/backward pass size (MB): 990.02\n",
       "Params size (MB): 7.41\n",
       "Estimated Total Size (MB): 1041.72\n",
       "=========================================================================================="
      ]
     },
     "execution_count": 19,
     "metadata": {},
     "output_type": "execute_result"
    }
   ],
   "source": [
    "import torch\n",
    "import torch.nn as nn\n",
    "import torch.nn.functional as F\n",
    "from torchinfo import summary\n",
    "\n",
    "# from keras.models import Sequential,Model\n",
    "# from keras.layers import Dropout, Flatten, Dense, Input, Add, merge, concatenate\n",
    "# from keras.layers.convolutional import Conv3D\n",
    "# from keras.layers.pooling import MaxPooling3D, GlobalAveragePooling3D, AveragePooling3D\n",
    "# from keras.initializers import he_uniform\n",
    "# from keras.initializers import glorot_uniform\n",
    "\n",
    "\n",
    "\n",
    "class ExpandBlock(nn.Module):\n",
    "    def __init__(self, in_channels, out_channels):\n",
    "        super(ExpandBlock, self).__init__()\n",
    "        self.conv1 = nn.Conv3d(in_channels, out_channels, kernel_size=1, padding=0)\n",
    "        self.conv2 = nn.Conv3d(in_channels, out_channels, kernel_size=3, padding=1)\n",
    "    \n",
    "    def forward(self, x):\n",
    "        expand1 = F.relu(self.conv1(x))\n",
    "        expand2 = F.relu(self.conv2(x))\n",
    "        return torch.cat([expand1, expand2], dim=1)\n",
    "\n",
    "class CrossAttention(nn.Module):\n",
    "    def __init__(self, d_in, d_out_kq, d_out_v):\n",
    "        super().__init__()\n",
    "        self.d_out_kq=d_out_kq\n",
    "        self.W_query=nn.Parameter(torch.rand(d_in, d_out_kq))\n",
    "        self.W_key  = nn.Parameter(torch.rand(d_in, d_out_kq))\n",
    "        self.W_value=nn.Parameter(torch.rand(d_in, d_out_v))\n",
    "    \n",
    "    def forward(self, x_1, x_2):\n",
    "        queries_1=x_1.matmul(self.W_query)\n",
    "        keys_2=x_2.matmul(self.W_key)\n",
    "        values_2=x_2.matmul(self.W_value)\n",
    "        \n",
    "        attn_scores=queries_1.matmul(keys_2.T)\n",
    "        attn_weights=torch.softmax(\n",
    "            attn_scores/self.d_out_kq**0.5, dim=-1\n",
    "        )\n",
    "        \n",
    "        context_vec=attn_weights.matmul(values_2)\n",
    "        return context_vec\n",
    "\n",
    "\n",
    "\n",
    "class KatNet(nn.Module):\n",
    "    def __init__(self):\n",
    "        super(KatNet, self).__init__()\n",
    "\n",
    "        self.conv0 = nn.Conv3d(16, 128,kernel_size = 3, stride=2, padding = 1)\n",
    "        \n",
    "        self.conv1 = nn.Conv3d(128, 256, kernel_size=1, padding=1)\n",
    "        self.bn1 = nn.BatchNorm3d(256)\n",
    "        self.pool1 = nn.MaxPool3d(kernel_size=3, stride=2)\n",
    "        self.expand_block1 = ExpandBlock(256, 64)\n",
    "        \n",
    "        self.conv2 = nn.Conv3d(128, 32, kernel_size=1, padding=1)\n",
    "        self.bn2 = nn.BatchNorm3d(32)\n",
    "        self.pool2 = nn.MaxPool3d(kernel_size=3, stride=2)\n",
    "        self.expand_block2 = ExpandBlock(32, 64)\n",
    "\n",
    "        self.conv3 = nn.Conv3d(128, 32, kernel_size=1, padding=1)\n",
    "        self.bn3 = nn.BatchNorm3d(32)\n",
    "        self.pool3 = nn.MaxPool3d(kernel_size=3, stride=2)\n",
    "        self.expand_block3 = ExpandBlock(32, 128)\n",
    "\n",
    "        #self.avg_pool_1 = nn.AvgPool3d(kernel_size=3, padding=1)\n",
    "\n",
    "\n",
    "        self.conv4 = nn.Conv3d(256, 32, kernel_size=1, padding=1)\n",
    "        self.bn4 = nn.BatchNorm3d(32)\n",
    "        self.pool4 = nn.MaxPool3d(kernel_size=2, stride=1, padding = 1)\n",
    "        self.expand_block4 = ExpandBlock(32, 128)\n",
    "\n",
    "        self.conv5 = nn.Conv3d(256, 128, kernel_size=1, padding = 1)\n",
    "        self.bn5 = nn.BatchNorm3d(128)\n",
    "        self.pool5 = nn.MaxPool3d(kernel_size=2, stride=1, padding = 1)\n",
    "        self.expand_block5 = ExpandBlock(128, 192)\n",
    "\n",
    "\n",
    "        self.conv6 = nn.Conv3d(384, 128, kernel_size=1, padding = 1)\n",
    "        self.bn6 = nn.BatchNorm3d(128)\n",
    "        self.pool6 = nn.MaxPool3d(kernel_size=2, stride=1, padding = 1)\n",
    "        self.expand_block6 = ExpandBlock(128, 32)\n",
    "\n",
    "        self.conv7 = nn.Conv3d(64, 16, kernel_size=1, padding = 1)\n",
    "        self.bn7 = nn.BatchNorm3d(16)\n",
    "        self.pool7 = nn.MaxPool3d(kernel_size=3, stride=1)\n",
    "        self.expand_block7 = ExpandBlock(16, 16)\n",
    "\n",
    "        \n",
    "        self.avg_pool_2 = nn.AvgPool3d(kernel_size=5)\n",
    "\n",
    "        self.crossattn = CrossAttention(256, 5, 256)\n",
    "\n",
    "\n",
    "        self.flatten = nn.Flatten(1) \n",
    "        \n",
    "        # self.fc_1 = nn.Linear(256, 512)\n",
    "        # self.fc_2 = nn.Linear(512, 720)\n",
    "        # self.fc_3 = nn.Linear(720, 1028)\n",
    "        # self.fc_4 = nn.Linear(1028, 512)\n",
    "        self.fc_5 = nn.Linear(256, 128)\n",
    "        self.fc_6 = nn.Linear(128, 32)\n",
    "        self.fc_7 = nn.Linear(32, 16)\n",
    "        self.fc_8 = nn.Linear(16, 1)\n",
    "                \n",
    "\n",
    "    def forward(self, x, x1):\n",
    "\n",
    "        x = F.relu(self.conv0(x))\n",
    "        \n",
    "        x = F.relu(self.bn1(self.conv1(x)))\n",
    "        x = self.pool2(x)\n",
    "        x = self.expand_block1(x)\n",
    "        \n",
    "        x = F.relu(self.bn2(self.conv2(x)))\n",
    "        x = self.pool2(x)\n",
    "        x = self.expand_block2(x)\n",
    "\n",
    "        x = F.relu(self.bn3(self.conv3(x)))\n",
    "        x = self.pool3(x)\n",
    "        x = self.expand_block3(x)\n",
    "\n",
    "        #x = self.avg_pool_1(x)\n",
    "\n",
    "        x = F.relu(self.bn4(self.conv4(x)))\n",
    "        x = self.pool4(x)\n",
    "        x = self.expand_block4(x)\n",
    "\n",
    "        x = F.relu(self.bn5(self.conv5(x)))\n",
    "        x = self.pool5(x)\n",
    "        x = self.expand_block5(x)\n",
    "\n",
    "        x = F.relu(self.bn6(self.conv6(x)))\n",
    "        x = self.pool6(x)\n",
    "        x = self.expand_block6(x)\n",
    "\n",
    "        x = F.relu(self.bn7(self.conv7(x)))\n",
    "        x = self.pool7(x)\n",
    "        x = self.expand_block7(x)\n",
    "\n",
    "        x = self.avg_pool_2(x)\n",
    "        \n",
    "        \n",
    "        x = self.flatten(x)\n",
    "\n",
    "        x = self.crossattn(x, x1)\n",
    "\n",
    "        #print(x.shape) #(batch_size x length) = (50, 512)\n",
    "        \n",
    "        # x = F.relu(self.fc_1(x))\n",
    "        # x = F.relu(self.fc_2(x))\n",
    "        # x = F.relu(self.fc_3(x))\n",
    "        # x = F.relu(self.fc_4(x))\n",
    "        x = F.relu(self.fc_5(x))\n",
    "        x = F.relu(self.fc_6(x))\n",
    "        x = F.relu(self.fc_7(x))\n",
    "        x = self.fc_8(x)\n",
    "        return x\n",
    "\n",
    "# Create an instance of the model\n",
    "model = KatNet()\n",
    "summary(model, input_size=[(50, 16, 24, 24, 24), (50, 256,)])"
   ]
  },
  {
   "cell_type": "markdown",
   "id": "657e4fa8-9221-4c14-9811-659191062fa2",
   "metadata": {},
   "source": [
    "#### Compiling Model"
   ]
  },
  {
   "cell_type": "code",
   "execution_count": 27,
   "id": "8eef4de1-08d2-4ab3-b963-14b140bd4ffa",
   "metadata": {},
   "outputs": [
    {
     "ename": "IndentationError",
     "evalue": "unindent does not match any outer indentation level (DataAugmentor.py, line 209)",
     "output_type": "error",
     "traceback": [
      "Traceback \u001b[1;36m(most recent call last)\u001b[0m:\n",
      "\u001b[0m  File \u001b[0;32m~\\anaconda3\\envs\\my_gpu\\lib\\site-packages\\IPython\\core\\interactiveshell.py:3553\u001b[0m in \u001b[0;35mrun_code\u001b[0m\n    exec(code_obj, self.user_global_ns, self.user_ns)\u001b[0m\n",
      "\u001b[1;36m  Cell \u001b[1;32mIn[27], line 9\u001b[1;36m\n\u001b[1;33m    from DataAugmentor import DataGenerator, AugmentedDataGenerator\u001b[1;36m\n",
      "\u001b[1;36m  File \u001b[1;32m~\\Downloads\\Sem-2\\COMP597 Special Topics\\Project\\DataAugmentor.py:209\u001b[1;36m\u001b[0m\n\u001b[1;33m    R = Rrot.random().as_euler('zxy', degrees=True)\u001b[0m\n\u001b[1;37m                                                   ^\u001b[0m\n\u001b[1;31mIndentationError\u001b[0m\u001b[1;31m:\u001b[0m unindent does not match any outer indentation level\n"
     ]
    }
   ],
   "source": [
    "from keras.models import Model\n",
    "from keras.layers import Input\n",
    "from keras import metrics\n",
    "from keras import optimizers\n",
    "from keras.utils import plot_model\n",
    "from keras import backend as K\n",
    "from keras.utils.data_utils import Sequence\n",
    "from keras.callbacks import ModelCheckpoint\n",
    "from DataAugmentor import DataGenerator, AugmentedDataGenerator\n",
    "\n",
    "\n",
    "nb_batch =32\n",
    "nb_epochs = 1\n",
    "l_rate=1e-4\n",
    "augmented=True\n",
    "\n",
    "\n",
    "# Build the model \n",
    "model_input = Input(shape=[(16, 24, 24, 24), (256,)])\n",
    "model = Model(inputs=model_input, outputs=KatNet(model_input))\n",
    "\n",
    "model.compile(optimizer=optimizers.adam(lr=l_rate, beta_1=0.99, beta_2=0.999),loss='mean_squared_error')\n",
    "\n",
    "\n",
    "\n"
   ]
  },
  {
   "cell_type": "code",
   "execution_count": null,
   "id": "807b1b45-4804-43ca-9814-2acaef767558",
   "metadata": {},
   "outputs": [],
   "source": [
    "  # Generators\n",
    "if augmented:\n",
    "    print(\"TRINING ON AUGMENTED DATA\")\n",
    "    data_gen = AugmentedDataGenerator(x=train_x, y=train_y, batch_size=nb_batch)\n",
    "    val_gen = AugmentedDataGenerator(x=valid_x, y=valid_y, batch_size=nb_batch)\n",
    "else:\n",
    "    data_gen = DataGenerator(x=train_x, y=train_y, batch_size=nb_batch)\n",
    "    val_gen = DataGenerator(x=valid_x, y=valid_y, batch_size=nb_batch)\n",
    "\n",
    "# Train\n",
    "history = model.fit_generator(generator=data_gen, validation_data=val_gen,\n",
    "                            use_multiprocessing=False, \n",
    "                            epochs=nb_epochs, \n",
    "                            max_queue_size=10, \n",
    "                            workers=56, \n",
    "                            verbose=1, \n",
    "                            callbacks=callbacks_list)\n"
   ]
  }
 ],
 "metadata": {
  "kernelspec": {
   "display_name": "Python 3 (ipykernel)",
   "language": "python",
   "name": "python3"
  },
  "language_info": {
   "codemirror_mode": {
    "name": "ipython",
    "version": 3
   },
   "file_extension": ".py",
   "mimetype": "text/x-python",
   "name": "python",
   "nbconvert_exporter": "python",
   "pygments_lexer": "ipython3",
   "version": "3.10.14"
  }
 },
 "nbformat": 4,
 "nbformat_minor": 5
}
